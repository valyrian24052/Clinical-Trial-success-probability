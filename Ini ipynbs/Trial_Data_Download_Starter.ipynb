{
  "cells": [
    {
      "cell_type": "markdown",
      "metadata": {
        "id": "1AhkokrU8mjY"
      },
      "source": [
        "🚀 Hackathon Starter Kit: ClinicalTrials.gov Data Downloader\n",
        "---\n",
        "\n",
        "*This notebook is your starting point for downloading rich, detailed data directly from the official ClinicalTrials.gov API.*\n",
        "\n",
        "---\n",
        "\n",
        "What this notebook does:\n",
        "Fetches data for a list of clinical trial IDs (NCT IDs).\n",
        "Saves the data into a clean, ready-to-use CSV file.\n",
        "Uses a reliable, one-by-one approach to avoid being blocked by the server.\n",
        "\n",
        "---\n",
        "\n",
        "How to use this notebook:\n",
        "Read the instructions in the text cells (like this one).\n",
        "Modify the configuration in Step 2 to select the trial IDs you want.\n"
      ]
    },
    {
      "cell_type": "markdown",
      "metadata": {
        "id": "Ksv_z3VW9hS4"
      },
      "source": [
        "# Step 1: Import Necessary Libraries\n",
        "\n",
        "This first code cell imports the Python libraries we'll need. No special installation is required, as these are all standard libraries available in Google Colab.\n",
        "\n",
        "\n",
        "*  **requests:** For making HTTP requests to the API.\n",
        "*   **csv:** For handling and writing data in CSV format.\n",
        "*   **io:** To treat the text data from the API as an in-memory file.\n",
        "*   **time:** To add a polite delay between our API requests.\n",
        "\n"
      ]
    },
    {
      "cell_type": "code",
      "execution_count": null,
      "metadata": {
        "id": "L08eN_4QqOV9"
      },
      "outputs": [],
      "source": [
        "import requests, csv, io, time"
      ]
    },
    {
      "cell_type": "markdown",
      "metadata": {
        "id": "2_c3Ixea-BW4"
      },
      "source": [
        "# Step 2: 🔧 Configuration\n",
        "\n",
        "This is the most important section for you to modify. Here you will define which trials to fetch and what to name your output file.\n",
        "\n",
        "\n",
        "*   **NCT_IDS**: This is a Python list of the trial IDs you want to download. You should replace the example IDs with your own list.\n",
        "*   **API_PARAMS**: Here you can customize the data fields you want from the API. We've included some baseline fields to get you started.\n",
        "\n"
      ]
    },
    {
      "cell_type": "code",
      "execution_count": null,
      "metadata": {
        "id": "v4A1wbqUu9xc"
      },
      "outputs": [],
      "source": [
        "# ==============================================================================\n",
        "# TODO: MODIFY THIS LIST WITH THE NCT IDs YOU WANT TO FETCH\n",
        "# ==============================================================================\n",
        "\n",
        "NCT_IDS = [\n",
        "    'NCT02125461', 'NCT01721746'\n",
        "]\n",
        "\n",
        "# You can change the name of your final output file here\n",
        "OUTPUT_FILENAME = 'clinical_trials_data.csv'\n",
        "\n",
        "# --- Advanced Configuration (You can leave this as is) ---\n",
        "\n",
        "# We must send a 'User-Agent' header to identify ourselves as a browser.\n",
        "# This is CRITICAL to avoid being blocked by the server (403 Forbidden error).\n",
        "API_HEADERS = {\n",
        "    'accept': 'text/csv',\n",
        "    'User-Agent': 'Mozilla/5.0 (Windows NT 10.0; Win64; x64) AppleWebKit/537.36 (KHTML, like Gecko) Chrome/107.0.0.0 Safari/537.36'\n",
        "}\n",
        "\n",
        "# These are the data fields we are requesting from the API.\n",
        "# The '|' character is used as a separator.\n",
        "API_PARAMS = {\n",
        "    'format': 'csv',\n",
        "    'fields': 'NCT Number|Study Title|Study URL|Acronym|Study Status|Brief Summary|Study Results|Conditions|Interventions|Primary Outcome Measures|Secondary Outcome Measures|Other Outcome Measures|Sponsor|Collaborators|Sex|Age|Phases|Enrollment|Funder Type|Study Type|Study Design|Start Date|Primary Completion Date|Completion Date|First Posted|Results First Posted|Last Update Posted|Locations|Study Documents',\n",
        "}"
      ]
    },
    {
      "cell_type": "markdown",
      "metadata": {
        "id": "B_WmVabi-xj4"
      },
      "source": [
        "# Step 3: Fetch the Data and Create the CSV File\n",
        "\n",
        "This is the main part of the script. When you run this cell, it will:\n",
        "Open the OUTPUT_FILENAME you defined above, ready for writing.\n",
        "\n",
        "1.   Open the OUTPUT_FILENAME you defined above, ready for writing.\n",
        "2.   Loop through each nct_id in your NCT_IDS list.\n",
        "3.   Make a request to the ClinicalTrials.gov API for that ID.\n",
        "4.   Wait for 1 second (time.sleep(1)) to be polite to the server and avoid rate limits.\n",
        "5.   If the request is successful, it writes the data to the CSV file.\n",
        "6.  If an error occurs (e.g., for an invalid ID), it will print an error message and continue to the next ID.\n",
        "\n",
        "\n",
        "The process might take some time depending on the number of IDs in your list. Watch the output below the cell to see its progress!"
      ]
    },
    {
      "cell_type": "code",
      "execution_count": null,
      "metadata": {
        "id": "K2KVW23B7JGl"
      },
      "outputs": [],
      "source": [
        "with open(OUTPUT_FILENAME, 'w', newline='', encoding='utf-8') as csv_file:\n",
        "    csv_writer = csv.writer(csv_file)\n",
        "\n",
        "    header_written = False\n",
        "\n",
        "    # Iterate through each NCT ID one by one\n",
        "    for nct_id in NCT_IDS:\n",
        "        url = f\"https://clinicaltrials.gov/api/v2/studies/{nct_id}\"\n",
        "        print(f\"Fetching data for {nct_id}...\")\n",
        "\n",
        "        try:\n",
        "            # Make a single, synchronous request\n",
        "            response = requests.get(url, params=API_PARAMS, headers=API_HEADERS, timeout=30)\n",
        "\n",
        "            # This will raise an error for 4xx or 5xx status codes (like 403, 404, 500)\n",
        "            response.raise_for_status()\n",
        "\n",
        "            # Use response.text which decodes the content for us\n",
        "            text_data = response.text\n",
        "\n",
        "            # Handle empty successful responses\n",
        "            if not text_data.strip():\n",
        "                print(f\"  Warning: Received an empty but successful response for {nct_id}. Skipping.\")\n",
        "                continue\n",
        "\n",
        "            # Use io.StringIO to treat the string as a file for the csv module\n",
        "            string_file = io.StringIO(text_data)\n",
        "            csv_reader = csv.reader(string_file)\n",
        "\n",
        "            # The first line of the response is the header\n",
        "            header = next(csv_reader)\n",
        "\n",
        "            # Write the header only once from the first successful request\n",
        "            if not header_written:\n",
        "                csv_writer.writerow(header)\n",
        "                header_written = True\n",
        "\n",
        "            # Write all remaining data rows (should be just one for this API)\n",
        "            for data_row in csv_reader:\n",
        "                csv_writer.writerow(data_row)\n",
        "\n",
        "            print(f\"  Success! Wrote data for {nct_id}.\")\n",
        "\n",
        "        except requests.exceptions.HTTPError as e:\n",
        "            # This catches 4xx/5xx errors, including our 403 or 404 for invalid IDs\n",
        "            print(f\"  Error for {nct_id}: {e}\")\n",
        "        except requests.exceptions.RequestException as e:\n",
        "            # This catches other network problems (e.g., connection timeout)\n",
        "            print(f\"  A network error occurred for {nct_id}: {e}\")\n",
        "\n",
        "        # --- POLITENESS DELAY ---\n",
        "        # Wait for a short time before the next request to avoid hammering the server.\n",
        "        time.sleep(1) # Sleep for 1 second\n",
        "\n",
        "print(f\"\\nProcessing complete. Data saved to '{OUTPUT_FILENAME}'.\")"
      ]
    }
  ],
  "metadata": {
    "colab": {
      "provenance": []
    },
    "kernelspec": {
      "display_name": "Python 3",
      "name": "python3"
    },
    "language_info": {
      "name": "python"
    }
  },
  "nbformat": 4,
  "nbformat_minor": 0
}
